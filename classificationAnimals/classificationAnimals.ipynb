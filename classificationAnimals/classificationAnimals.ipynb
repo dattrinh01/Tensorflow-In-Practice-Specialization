{
 "cells": [
  {
   "cell_type": "code",
   "execution_count": 0,
   "metadata": {
    "colab": {},
    "colab_type": "code",
    "id": "8x__vnjDgQrO"
   },
   "outputs": [],
   "source": [
    "from google.colab import drive\n",
    "drive.mount(\"/content/gdrive\")"
   ]
  },
  {
   "cell_type": "code",
   "execution_count": 0,
   "metadata": {
    "colab": {},
    "colab_type": "code",
    "id": "tYNe8P_Lgg1b"
   },
   "outputs": [],
   "source": [
    "pip install wget"
   ]
  },
  {
   "cell_type": "code",
   "execution_count": 0,
   "metadata": {
    "colab": {},
    "colab_type": "code",
    "id": "5jNNTIZqgyP_"
   },
   "outputs": [],
   "source": [
    "cd/content/gdrive/My Drive/ML"
   ]
  },
  {
   "cell_type": "code",
   "execution_count": 0,
   "metadata": {
    "colab": {},
    "colab_type": "code",
    "id": "hcck3H66gnlo"
   },
   "outputs": [],
   "source": [
    "import wget"
   ]
  },
  {
   "cell_type": "code",
   "execution_count": 0,
   "metadata": {
    "colab": {},
    "colab_type": "code",
    "id": "XDxdbufygomo"
   },
   "outputs": [],
   "source": [
    "link = \"https://storage.googleapis.com/kaggle-data-sets/59760/840806/bundle/archive.zip?GoogleAccessId=web-data@kaggle-161607.iam.gserviceaccount.com&Expires=1589443141&Signature=ZGP%2FHKK0%2BdO%2BpnxLwfnhf%2FEAxMBGjBt1oixwBCi%2FFrP2tBQ6IuKkLZmPuJBf%2BgjynGFWiGtHEtDj5FH4%2B6wuhamJAVQbkmiN2%2BjaKqU4eCHyQT2OVwAF98d2UbDXXX482KkDZ0l%2B2qXONPGT3XM0%2B8sDiFIE9o3n7%2BV%2BX6rAw4Kn%2BYc75CU09u%2Faz5D9GxE65SQfVsLW4UJh7D9Cc5rUTZAw9HRcNNy%2FeqyVlbcE0aXWj8B5pPjEWL%2F%2F2lotzpi0P5BOVPpArQvX30Qp5SeQYyEYrklld5y6rEylGhR9zdnNDz3NQikXLCCv1A%2Bv2yBS%2BGWsCY4VSWyLMlqyNT3Tow%3D%3D&response-content-disposition=attachment%3B+filename%3Danimals10.zip\""
   ]
  },
  {
   "cell_type": "code",
   "execution_count": 0,
   "metadata": {
    "colab": {},
    "colab_type": "code",
    "id": "TO9621eZgq1q"
   },
   "outputs": [],
   "source": [
    "wget.download(link)"
   ]
  },
  {
   "cell_type": "code",
   "execution_count": 0,
   "metadata": {
    "colab": {},
    "colab_type": "code",
    "id": "yHzSnl2eg6o9"
   },
   "outputs": [],
   "source": [
    "data = \"./\""
   ]
  },
  {
   "cell_type": "code",
   "execution_count": 0,
   "metadata": {
    "colab": {},
    "colab_type": "code",
    "id": "Z1GxiKWsg1Eo"
   },
   "outputs": [],
   "source": [
    "!unzip -q animals10.zip -d $data"
   ]
  },
  {
   "cell_type": "code",
   "execution_count": 0,
   "metadata": {
    "colab": {},
    "colab_type": "code",
    "id": "cKnLFZdcg8RE"
   },
   "outputs": [],
   "source": [
    "pip install split-folders"
   ]
  },
  {
   "cell_type": "code",
   "execution_count": 0,
   "metadata": {
    "colab": {},
    "colab_type": "code",
    "id": "TQNM9kSVhLq7"
   },
   "outputs": [],
   "source": [
    "import split_folders as sf"
   ]
  },
  {
   "cell_type": "code",
   "execution_count": 0,
   "metadata": {
    "colab": {
     "base_uri": "https://localhost:8080/",
     "height": 34
    },
    "colab_type": "code",
    "executionInfo": {
     "elapsed": 380249,
     "status": "ok",
     "timestamp": 1589231166588,
     "user": {
      "displayName": "Dat Trinh Tan",
      "photoUrl": "",
      "userId": "00919329046650564219"
     },
     "user_tz": -420
    },
    "id": "1DN5isYjhQ7I",
    "outputId": "a4ce1493-ae18-456b-807d-e30eeacbd1c9"
   },
   "outputs": [
    {
     "name": "stderr",
     "output_type": "stream",
     "text": [
      "Copying files: 26179 files [06:14, 69.99 files/s]\n"
     ]
    }
   ],
   "source": [
    "sf.ratio(\"raw-img\", output = \"./\", ratio = (.8,.1,.1))"
   ]
  },
  {
   "cell_type": "code",
   "execution_count": 0,
   "metadata": {
    "colab": {},
    "colab_type": "code",
    "id": "8yiHcLojhYJ0"
   },
   "outputs": [],
   "source": [
    "train_data = data + \"./train\"\n",
    "valid_data = data + \"./val\""
   ]
  },
  {
   "cell_type": "code",
   "execution_count": 0,
   "metadata": {
    "colab": {},
    "colab_type": "code",
    "id": "PdkGGGmAiuKY"
   },
   "outputs": [],
   "source": [
    "from tensorflow.keras.models import Sequential\n",
    "from tensorflow.keras.layers import Conv2D\n",
    "from tensorflow.keras.layers import MaxPool2D\n",
    "from tensorflow.keras.layers import BatchNormalization\n",
    "from tensorflow.keras.layers import Flatten\n",
    "from tensorflow.keras.layers import Dense\n",
    "from tensorflow.keras.layers import Dropout\n",
    "from tensorflow.keras.preprocessing.image import ImageDataGenerator"
   ]
  },
  {
   "cell_type": "code",
   "execution_count": 0,
   "metadata": {
    "colab": {},
    "colab_type": "code",
    "id": "kv06EFQvjQst"
   },
   "outputs": [],
   "source": [
    "import numpy as np\n",
    "import pandas as pd\n",
    "import matplotlib.pyplot as plt\n",
    "import os"
   ]
  },
  {
   "cell_type": "code",
   "execution_count": 0,
   "metadata": {
    "colab": {},
    "colab_type": "code",
    "id": "Y60YvKaJjXPh"
   },
   "outputs": [],
   "source": [
    "model = Sequential()"
   ]
  },
  {
   "cell_type": "code",
   "execution_count": 0,
   "metadata": {
    "colab": {},
    "colab_type": "code",
    "id": "Oixbot5ej2_5"
   },
   "outputs": [],
   "source": [
    "model.add(Conv2D(16, (3,3), activation=\"relu\", input_shape = (100,100,3)))\n",
    "model.add(BatchNormalization())\n",
    "model.add(Conv2D(32, (3,3), activation=\"relu\"))\n",
    "model.add(BatchNormalization())\n",
    "model.add(MaxPool2D(2,2))"
   ]
  },
  {
   "cell_type": "code",
   "execution_count": 0,
   "metadata": {
    "colab": {},
    "colab_type": "code",
    "id": "alv6nAS8knoG"
   },
   "outputs": [],
   "source": [
    "model.add(Conv2D(64, (3,3), activation=\"relu\"))\n",
    "model.add(BatchNormalization())\n",
    "model.add(Conv2D(128, (3,3), activation=\"relu\"))\n",
    "model.add(MaxPool2D(2,2))"
   ]
  },
  {
   "cell_type": "code",
   "execution_count": 0,
   "metadata": {
    "colab": {},
    "colab_type": "code",
    "id": "4LpYDgKTk3YZ"
   },
   "outputs": [],
   "source": [
    "model.add(Flatten())\n",
    "model.add(Dropout(0.5))\n",
    "model.add(Dense(512, activation=\"relu\"))\n",
    "model.add(Dropout(0.5))\n",
    "model.add(Dense(10, activation= \"softmax\"))\n",
    "model.summary()"
   ]
  },
  {
   "cell_type": "code",
   "execution_count": 0,
   "metadata": {
    "colab": {},
    "colab_type": "code",
    "id": "M_lM_y7llRgx"
   },
   "outputs": [],
   "source": [
    "gen_train = ImageDataGenerator(rescale=1/255)\n",
    "gen_valid = ImageDataGenerator(rescale=1/255)"
   ]
  },
  {
   "cell_type": "code",
   "execution_count": 0,
   "metadata": {
    "colab": {},
    "colab_type": "code",
    "id": "Z2lYpObClX2y"
   },
   "outputs": [],
   "source": [
    "gen_train_data = gen_train.flow_from_directory(\n",
    "    train_data,\n",
    "    target_size = (100,100),\n",
    "    color_mode = \"rgb\",\n",
    "    batch_size = 130,\n",
    "    class_mode = \"categorical\"\n",
    ")"
   ]
  },
  {
   "cell_type": "code",
   "execution_count": 0,
   "metadata": {
    "colab": {},
    "colab_type": "code",
    "id": "enQgjUUtlaBX"
   },
   "outputs": [],
   "source": [
    "gen_valid_data = gen_valid.flow_from_directory(\n",
    "    valid_data,\n",
    "    target_size = (100,100),\n",
    "    color_mode = \"rgb\",\n",
    "    batch_size = 130,\n",
    "    class_mode = \"categorical\"\n",
    ")"
   ]
  },
  {
   "cell_type": "code",
   "execution_count": 0,
   "metadata": {
    "colab": {},
    "colab_type": "code",
    "id": "yFSRIHpClkVU"
   },
   "outputs": [],
   "source": [
    "model.compile(optimizer=\"adam\", loss = \"categorical_crossentropy\", metrics=[\"acc\"])"
   ]
  },
  {
   "cell_type": "code",
   "execution_count": 0,
   "metadata": {
    "colab": {},
    "colab_type": "code",
    "id": "azCv704tmvR3"
   },
   "outputs": [],
   "source": [
    "history = model.fit_generator(\n",
    "    gen_train_data,\n",
    "    steps_per_epoch = 1000,\n",
    "    epochs = 40,\n",
    "    verbose = 1,\n",
    "    validation_data = gen_valid_data,\n",
    "    validation_steps = 1000\n",
    ")"
   ]
  },
  {
   "cell_type": "code",
   "execution_count": 0,
   "metadata": {
    "colab": {},
    "colab_type": "code",
    "id": "G42HU93YzzGZ"
   },
   "outputs": [],
   "source": [
    "model.save(\"classificationAnimals.h5\")"
   ]
  },
  {
   "cell_type": "code",
   "execution_count": 0,
   "metadata": {
    "colab": {},
    "colab_type": "code",
    "id": "NxqU1Tb0Xthh"
   },
   "outputs": [],
   "source": [
    "import tensorflow as tf\n",
    "model = tf.keras.models.load_model(\"classificationAnimals.h5\")"
   ]
  },
  {
   "cell_type": "code",
   "execution_count": 0,
   "metadata": {
    "colab": {},
    "colab_type": "code",
    "id": "RFA6LkS5cgOZ"
   },
   "outputs": [],
   "source": [
    "className = [\"dog\", \"horse\",\"elephant\", \"butterfly\",  \"chicken\",  \"cat\", \"cow\",  \"sheep\", \"squirrel\",\"spider\"]"
   ]
  },
  {
   "cell_type": "code",
   "execution_count": 0,
   "metadata": {
    "colab": {},
    "colab_type": "code",
    "id": "TAmHLZoPYJad"
   },
   "outputs": [],
   "source": [
    "from google.colab import files\n",
    "from keras.preprocessing import image"
   ]
  },
  {
   "cell_type": "code",
   "execution_count": 0,
   "metadata": {
    "colab": {},
    "colab_type": "code",
    "id": "Qhiyx6iedIkw"
   },
   "outputs": [],
   "source": [
    "uploaded = files.upload()\n",
    "for k in uploaded.keys():\n",
    "    path = \"./\" + k\n",
    "    img = image.load_img(path, target_size = (100,100))\n",
    "    x = image.img_to_array(img) / 255.0\n",
    "    x = np.expand_dims(x, axis = 0)\n",
    "    images = np.vstack([x])\n",
    "    result = model.predict(images)\n",
    "    predict_label = np.argmax(result)\n",
    "    plt.imshow(img)\n",
    "    print(\"Name is \",className[predict_label])"
   ]
  }
 ],
 "metadata": {
  "accelerator": "GPU",
  "colab": {
   "authorship_tag": "ABX9TyM3wxQsNIWGcDEu0/06vvIN",
   "collapsed_sections": [],
   "mount_file_id": "1A2JF7M5qRqrlx5738Dz1pQXETxTB_h43",
   "name": "classificationAnimals.ipynb",
   "provenance": []
  },
  "kernelspec": {
   "display_name": "Python 3",
   "language": "python",
   "name": "python3"
  },
  "language_info": {
   "codemirror_mode": {
    "name": "ipython",
    "version": 3
   },
   "file_extension": ".py",
   "mimetype": "text/x-python",
   "name": "python",
   "nbconvert_exporter": "python",
   "pygments_lexer": "ipython3",
   "version": "3.7.6"
  }
 },
 "nbformat": 4,
 "nbformat_minor": 1
}
