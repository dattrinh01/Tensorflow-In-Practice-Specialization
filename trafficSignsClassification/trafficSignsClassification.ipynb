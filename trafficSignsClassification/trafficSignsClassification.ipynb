{
  "nbformat": 4,
  "nbformat_minor": 0,
  "metadata": {
    "colab": {
      "name": "trafficSignsClassification.ipynb",
      "provenance": []
    },
    "kernelspec": {
      "name": "python3",
      "display_name": "Python 3"
    },
    "accelerator": "GPU"
  },
  "cells": [
    {
      "cell_type": "code",
      "metadata": {
        "id": "kY8kz22i1ryG",
        "colab_type": "code",
        "colab": {
          "base_uri": "https://localhost:8080/",
          "height": 390
        },
        "outputId": "bfa4b514-7858-44c0-858d-bf76918cbdfb"
      },
      "source": [
        "!pip3 install tensorflow-gpu==2.0.0-rc0 "
      ],
      "execution_count": 41,
      "outputs": [
        {
          "output_type": "stream",
          "text": [
            "Requirement already satisfied: tensorflow-gpu==2.0.0-rc0 in /usr/local/lib/python3.6/dist-packages (2.0.0rc0)\n",
            "Requirement already satisfied: gast>=0.2.0 in /usr/local/lib/python3.6/dist-packages (from tensorflow-gpu==2.0.0-rc0) (0.3.3)\n",
            "Requirement already satisfied: absl-py>=0.7.0 in /usr/local/lib/python3.6/dist-packages (from tensorflow-gpu==2.0.0-rc0) (0.9.0)\n",
            "Requirement already satisfied: six>=1.10.0 in /usr/local/lib/python3.6/dist-packages (from tensorflow-gpu==2.0.0-rc0) (1.12.0)\n",
            "Requirement already satisfied: termcolor>=1.1.0 in /usr/local/lib/python3.6/dist-packages (from tensorflow-gpu==2.0.0-rc0) (1.1.0)\n",
            "Requirement already satisfied: keras-applications>=1.0.8 in /usr/local/lib/python3.6/dist-packages (from tensorflow-gpu==2.0.0-rc0) (1.0.8)\n",
            "Requirement already satisfied: astor>=0.6.0 in /usr/local/lib/python3.6/dist-packages (from tensorflow-gpu==2.0.0-rc0) (0.8.1)\n",
            "Requirement already satisfied: wrapt>=1.11.1 in /usr/local/lib/python3.6/dist-packages (from tensorflow-gpu==2.0.0-rc0) (1.12.1)\n",
            "Requirement already satisfied: wheel>=0.26 in /usr/local/lib/python3.6/dist-packages (from tensorflow-gpu==2.0.0-rc0) (0.34.2)\n",
            "Requirement already satisfied: keras-preprocessing>=1.0.5 in /usr/local/lib/python3.6/dist-packages (from tensorflow-gpu==2.0.0-rc0) (1.1.0)\n",
            "Requirement already satisfied: opt-einsum>=2.3.2 in /usr/local/lib/python3.6/dist-packages (from tensorflow-gpu==2.0.0-rc0) (3.2.1)\n",
            "Requirement already satisfied: tb-nightly<1.15.0a20190807,>=1.15.0a20190806 in /usr/local/lib/python3.6/dist-packages (from tensorflow-gpu==2.0.0-rc0) (1.15.0a20190806)\n",
            "Requirement already satisfied: tf-estimator-nightly<1.14.0.dev2019080602,>=1.14.0.dev2019080601 in /usr/local/lib/python3.6/dist-packages (from tensorflow-gpu==2.0.0-rc0) (1.14.0.dev2019080601)\n",
            "Requirement already satisfied: protobuf>=3.6.1 in /usr/local/lib/python3.6/dist-packages (from tensorflow-gpu==2.0.0-rc0) (3.10.0)\n",
            "Requirement already satisfied: grpcio>=1.8.6 in /usr/local/lib/python3.6/dist-packages (from tensorflow-gpu==2.0.0-rc0) (1.28.1)\n",
            "Requirement already satisfied: google-pasta>=0.1.6 in /usr/local/lib/python3.6/dist-packages (from tensorflow-gpu==2.0.0-rc0) (0.2.0)\n",
            "Requirement already satisfied: numpy<2.0,>=1.16.0 in /usr/local/lib/python3.6/dist-packages (from tensorflow-gpu==2.0.0-rc0) (1.18.3)\n",
            "Requirement already satisfied: h5py in /usr/local/lib/python3.6/dist-packages (from keras-applications>=1.0.8->tensorflow-gpu==2.0.0-rc0) (2.10.0)\n",
            "Requirement already satisfied: setuptools>=41.0.0 in /usr/local/lib/python3.6/dist-packages (from tb-nightly<1.15.0a20190807,>=1.15.0a20190806->tensorflow-gpu==2.0.0-rc0) (46.1.3)\n",
            "Requirement already satisfied: werkzeug>=0.11.15 in /usr/local/lib/python3.6/dist-packages (from tb-nightly<1.15.0a20190807,>=1.15.0a20190806->tensorflow-gpu==2.0.0-rc0) (1.0.1)\n",
            "Requirement already satisfied: markdown>=2.6.8 in /usr/local/lib/python3.6/dist-packages (from tb-nightly<1.15.0a20190807,>=1.15.0a20190806->tensorflow-gpu==2.0.0-rc0) (3.2.1)\n"
          ],
          "name": "stdout"
        }
      ]
    },
    {
      "cell_type": "code",
      "metadata": {
        "id": "L6ldZXOE21Us",
        "colab_type": "code",
        "colab": {}
      },
      "source": [
        "from tensorflow.keras.models import Model\n",
        "from tensorflow.keras.models import Sequential\n",
        "from tensorflow.keras.layers import Conv2D\n",
        "from tensorflow.keras.layers import Activation\n",
        "from tensorflow.keras.layers import BatchNormalization\n",
        "from tensorflow.keras.layers import MaxPool2D\n",
        "from tensorflow.keras.layers import AveragePooling2D\n",
        "from tensorflow.keras.layers import Dropout\n",
        "from tensorflow.keras.layers import Flatten\n",
        "from tensorflow.keras.layers import Dense\n",
        "from tensorflow.keras.layers import concatenate"
      ],
      "execution_count": 0,
      "outputs": []
    },
    {
      "cell_type": "code",
      "metadata": {
        "id": "6BxFcvHI3EXn",
        "colab_type": "code",
        "colab": {}
      },
      "source": [
        "from tensorflow.keras.preprocessing.image import ImageDataGenerator\n",
        "from tensorflow.keras.optimizers import SGD"
      ],
      "execution_count": 0,
      "outputs": []
    },
    {
      "cell_type": "code",
      "metadata": {
        "id": "KvYulhCO3-RP",
        "colab_type": "code",
        "colab": {}
      },
      "source": [
        "import numpy as np\n",
        "import pandas as pd\n",
        "import matplotlib.pyplot as plt"
      ],
      "execution_count": 0,
      "outputs": []
    },
    {
      "cell_type": "code",
      "metadata": {
        "id": "7jevy2Ce4E6X",
        "colab_type": "code",
        "colab": {}
      },
      "source": [
        "import pickle\n",
        "import os"
      ],
      "execution_count": 0,
      "outputs": []
    },
    {
      "cell_type": "code",
      "metadata": {
        "id": "GoWojUB84IJE",
        "colab_type": "code",
        "colab": {}
      },
      "source": [
        "from sklearn.preprocessing import LabelBinarizer"
      ],
      "execution_count": 0,
      "outputs": []
    },
    {
      "cell_type": "code",
      "metadata": {
        "id": "0YR_P16B4U3_",
        "colab_type": "code",
        "colab": {
          "base_uri": "https://localhost:8080/",
          "height": 34
        },
        "outputId": "e70292b7-0025-4b24-ec07-db40dc977372"
      },
      "source": [
        "!pip install wget"
      ],
      "execution_count": 47,
      "outputs": [
        {
          "output_type": "stream",
          "text": [
            "Requirement already satisfied: wget in /usr/local/lib/python3.6/dist-packages (3.2)\n"
          ],
          "name": "stdout"
        }
      ]
    },
    {
      "cell_type": "code",
      "metadata": {
        "id": "dQ2c4t2M4ZWc",
        "colab_type": "code",
        "colab": {}
      },
      "source": [
        "import wget"
      ],
      "execution_count": 0,
      "outputs": []
    },
    {
      "cell_type": "code",
      "metadata": {
        "id": "iqqvs_xb5fX7",
        "colab_type": "code",
        "colab": {
          "base_uri": "https://localhost:8080/",
          "height": 34
        },
        "outputId": "e53b0987-83db-4450-86ba-d39a7039413a"
      },
      "source": [
        "cd /content/drive/My Drive/ML"
      ],
      "execution_count": 49,
      "outputs": [
        {
          "output_type": "stream",
          "text": [
            "/content/drive/My Drive/ML\n"
          ],
          "name": "stdout"
        }
      ]
    },
    {
      "cell_type": "code",
      "metadata": {
        "id": "IaVqVMuO4b-i",
        "colab_type": "code",
        "colab": {
          "base_uri": "https://localhost:8080/",
          "height": 34
        },
        "outputId": "6a7c9877-3bfb-4fc7-ae84-3f6332cca3e9"
      },
      "source": [
        "link = \"https://d17h27t6h515a5.cloudfront.net/topher/2017/February/5898cd6f_traffic-signs-data/traffic-signs-data.zip\"\n",
        "wget.download(link)"
      ],
      "execution_count": 50,
      "outputs": [
        {
          "output_type": "execute_result",
          "data": {
            "text/plain": [
              "'traffic-signs-data.zip'"
            ]
          },
          "metadata": {
            "tags": []
          },
          "execution_count": 50
        }
      ]
    },
    {
      "cell_type": "code",
      "metadata": {
        "id": "Vpy1885T5k7w",
        "colab_type": "code",
        "colab": {}
      },
      "source": [
        "data = \"./\""
      ],
      "execution_count": 0,
      "outputs": []
    },
    {
      "cell_type": "code",
      "metadata": {
        "id": "-MH6wtC94fXi",
        "colab_type": "code",
        "colab": {}
      },
      "source": [
        "!unzip -q traffic-signs-data.zip -d $data"
      ],
      "execution_count": 0,
      "outputs": []
    },
    {
      "cell_type": "code",
      "metadata": {
        "id": "qYxSNPmE5Y2F",
        "colab_type": "code",
        "colab": {}
      },
      "source": [
        "train_data = data + \"/train.p\"\n",
        "valid_data = data + \"/valid.p\"\n",
        "test_data  = data + \"/test.p\""
      ],
      "execution_count": 0,
      "outputs": []
    },
    {
      "cell_type": "code",
      "metadata": {
        "id": "ImnjwXwD5z5o",
        "colab_type": "code",
        "colab": {}
      },
      "source": [
        "with open(train_data, mode = \"rb\") as f:\n",
        "    train = pickle.load(f)"
      ],
      "execution_count": 0,
      "outputs": []
    },
    {
      "cell_type": "code",
      "metadata": {
        "id": "WotR6L7P5-mu",
        "colab_type": "code",
        "colab": {}
      },
      "source": [
        "with open(valid_data, mode = \"rb\") as f:\n",
        "    valid = pickle.load(f)"
      ],
      "execution_count": 0,
      "outputs": []
    },
    {
      "cell_type": "code",
      "metadata": {
        "id": "ujnGpco76FqS",
        "colab_type": "code",
        "colab": {}
      },
      "source": [
        "with open(test_data, mode = \"rb\") as f:\n",
        "    test = pickle.load(f)"
      ],
      "execution_count": 0,
      "outputs": []
    },
    {
      "cell_type": "code",
      "metadata": {
        "id": "nRRY7rXp6gYH",
        "colab_type": "code",
        "colab": {}
      },
      "source": [
        "from sklearn.utils import shuffle"
      ],
      "execution_count": 0,
      "outputs": []
    },
    {
      "cell_type": "code",
      "metadata": {
        "id": "UqmnIUHz6MOq",
        "colab_type": "code",
        "colab": {}
      },
      "source": [
        "train_X = train[\"features\"]\n",
        "train_Y = train[\"labels\"]\n",
        "train_X, train_Y = shuffle(train_X, train_Y)"
      ],
      "execution_count": 0,
      "outputs": []
    },
    {
      "cell_type": "code",
      "metadata": {
        "id": "imXIrvIp6sP7",
        "colab_type": "code",
        "colab": {}
      },
      "source": [
        "valid_X = valid[\"features\"]\n",
        "valid_Y = valid[\"labels\"]\n",
        "valid_X, valid_Y = shuffle(valid_X, valid_Y)"
      ],
      "execution_count": 0,
      "outputs": []
    },
    {
      "cell_type": "code",
      "metadata": {
        "id": "lTUsTYUk7Jkm",
        "colab_type": "code",
        "colab": {}
      },
      "source": [
        "test_X = test[\"features\"]\n",
        "test_Y = test[\"labels\"]"
      ],
      "execution_count": 0,
      "outputs": []
    },
    {
      "cell_type": "code",
      "metadata": {
        "id": "H1OTXBCq64nA",
        "colab_type": "code",
        "colab": {
          "base_uri": "https://localhost:8080/",
          "height": 283
        },
        "outputId": "4ad94d81-654b-4b9a-decd-7fff22c83c97"
      },
      "source": [
        "plt.imshow(train_X[0])"
      ],
      "execution_count": 61,
      "outputs": [
        {
          "output_type": "execute_result",
          "data": {
            "text/plain": [
              "<matplotlib.image.AxesImage at 0x7fd11e010f60>"
            ]
          },
          "metadata": {
            "tags": []
          },
          "execution_count": 61
        },
        {
          "output_type": "display_data",
          "data": {
            "image/png": "[encoded data removed]",
            "text/plain": [
              "<Figure size 432x288 with 1 Axes>"
            ]
          },
          "metadata": {
            "tags": [],
            "needs_background": "light"
          }
        }
      ]
    },
    {
      "cell_type": "code",
      "metadata": {
        "id": "xA3asiN-6_Yb",
        "colab_type": "code",
        "colab": {}
      },
      "source": [
        "classNames = ['Speed limit (20km/h)',\n",
        " 'Speed limit (30km/h)',\n",
        " 'Speed limit (50km/h)',\n",
        " 'Speed limit (60km/h)',\n",
        " 'Speed limit (70km/h)',\n",
        " 'Speed limit (80km/h)',\n",
        " 'End of speed limit (80km/h)',\n",
        " 'Speed limit (100km/h)',\n",
        " 'Speed limit (120km/h)',\n",
        " 'No passing',\n",
        " 'No passing for vehicles over 3.5 metric tons',\n",
        " 'Right-of-way at the next intersection',\n",
        " 'Priority road',\n",
        " 'Yield',\n",
        " 'Stop',\n",
        " 'No vehicles',\n",
        " 'Vehicles over 3.5 metric tons prohibited',\n",
        " 'No entry',\n",
        " 'General caution',\n",
        " 'Dangerous curve to the left',\n",
        " 'Dangerous curve to the right',\n",
        " 'Double curve',\n",
        " 'Bumpy road',\n",
        " 'Slippery road',\n",
        " 'Road narrows on the right',\n",
        " 'Road work',\n",
        " 'Traffic signals',\n",
        " 'Pedestrians',\n",
        " 'Children crossing',\n",
        " 'Bicycles crossing',\n",
        " 'Beware of ice/snow',\n",
        " 'Wild animals crossing',\n",
        " 'End of all speed and passing limits',\n",
        " 'Turn right ahead',\n",
        " 'Turn left ahead',\n",
        " 'Ahead only',\n",
        " 'Go straight or right',\n",
        " 'Go straight or left',\n",
        " 'Keep right',\n",
        " 'Keep left',\n",
        " 'Roundabout mandatory',\n",
        " 'End of no passing',\n",
        " 'End of no passing by vehicles over 3.5 metric tons']"
      ],
      "execution_count": 0,
      "outputs": []
    },
    {
      "cell_type": "code",
      "metadata": {
        "id": "amV-Riqk7AyI",
        "colab_type": "code",
        "colab": {
          "base_uri": "https://localhost:8080/",
          "height": 34
        },
        "outputId": "b7336751-5506-4c9e-df21-557deb391a3b"
      },
      "source": [
        "classNames[test_Y[0]]"
      ],
      "execution_count": 63,
      "outputs": [
        {
          "output_type": "execute_result",
          "data": {
            "text/plain": [
              "'Vehicles over 3.5 metric tons prohibited'"
            ]
          },
          "metadata": {
            "tags": []
          },
          "execution_count": 63
        }
      ]
    },
    {
      "cell_type": "code",
      "metadata": {
        "id": "ghQts3pR7SfA",
        "colab_type": "code",
        "colab": {}
      },
      "source": [
        "train_X = train_X.astype(\"float\") / 255.0\n",
        "valid_X = valid_X.astype(\"float\") / 255.0\n",
        "test_X = test_X.astype(\"float\") / 255.0"
      ],
      "execution_count": 0,
      "outputs": []
    },
    {
      "cell_type": "code",
      "metadata": {
        "id": "Mt7xllxf7fHC",
        "colab_type": "code",
        "colab": {}
      },
      "source": [
        "lb = LabelBinarizer()"
      ],
      "execution_count": 0,
      "outputs": []
    },
    {
      "cell_type": "code",
      "metadata": {
        "id": "r9p2DMgz7jtf",
        "colab_type": "code",
        "colab": {}
      },
      "source": [
        "train_Y = lb.fit_transform(train_Y)\n",
        "test_Y = lb.fit_transform(test_Y)\n",
        "valid_Y = lb.fit_transform(valid_Y)"
      ],
      "execution_count": 0,
      "outputs": []
    },
    {
      "cell_type": "code",
      "metadata": {
        "id": "bt1c0XB57vBh",
        "colab_type": "code",
        "colab": {}
      },
      "source": [
        "model = Sequential()"
      ],
      "execution_count": 0,
      "outputs": []
    },
    {
      "cell_type": "code",
      "metadata": {
        "id": "HL4nm5RO7xjj",
        "colab_type": "code",
        "colab": {}
      },
      "source": [
        "learning_rate = 0.01\n",
        "batch_size = 64\n",
        "num_epochs = 30"
      ],
      "execution_count": 0,
      "outputs": []
    },
    {
      "cell_type": "code",
      "metadata": {
        "id": "SNKRwUQS797F",
        "colab_type": "code",
        "colab": {}
      },
      "source": [
        "width = 32\n",
        "height = 32\n",
        "classes = 43"
      ],
      "execution_count": 0,
      "outputs": []
    },
    {
      "cell_type": "code",
      "metadata": {
        "id": "y_zuJTot8Fm7",
        "colab_type": "code",
        "colab": {}
      },
      "source": [
        "shape = (width, height, 3)"
      ],
      "execution_count": 0,
      "outputs": []
    },
    {
      "cell_type": "code",
      "metadata": {
        "id": "UD5o7WoY8KCb",
        "colab_type": "code",
        "colab": {}
      },
      "source": [
        "model.add(Conv2D(32, (3,3), padding=\"same\", input_shape = shape))\n",
        "model.add(Activation(\"relu\"))\n",
        "model.add(BatchNormalization())\n",
        "model.add(Conv2D(32, (3,3), padding=\"same\"))\n",
        "model.add(Activation(\"relu\"))\n",
        "model.add(BatchNormalization())\n",
        "model.add(MaxPool2D(pool_size=(2,2)))"
      ],
      "execution_count": 0,
      "outputs": []
    },
    {
      "cell_type": "code",
      "metadata": {
        "id": "ZLsOGPVg8pU-",
        "colab_type": "code",
        "colab": {}
      },
      "source": [
        "model.add(Conv2D(64, (3,3), padding=\"same\"))\n",
        "model.add(Activation(\"relu\"))\n",
        "model.add(BatchNormalization())\n",
        "model.add(Conv2D(64, (3,3), padding=\"same\"))\n",
        "model.add(Activation(\"relu\"))\n",
        "model.add(BatchNormalization())\n",
        "model.add(MaxPool2D(pool_size=(2,2)))"
      ],
      "execution_count": 0,
      "outputs": []
    },
    {
      "cell_type": "code",
      "metadata": {
        "id": "B15NIgHm8zGX",
        "colab_type": "code",
        "colab": {}
      },
      "source": [
        "model.add(Flatten())\n",
        "model.add(Dense(512))\n",
        "model.add(Activation(\"relu\"))\n",
        "model.add(BatchNormalization())\n",
        "model.add(Dropout(0.5))\n",
        "model.add(Dense(classes))"
      ],
      "execution_count": 0,
      "outputs": []
    },
    {
      "cell_type": "code",
      "metadata": {
        "id": "cWguG5Pj9Lzf",
        "colab_type": "code",
        "colab": {}
      },
      "source": [
        "model.add(Activation(\"softmax\"))"
      ],
      "execution_count": 0,
      "outputs": []
    },
    {
      "cell_type": "code",
      "metadata": {
        "id": "L76HsDpQ9eR7",
        "colab_type": "code",
        "colab": {
          "base_uri": "https://localhost:8080/",
          "height": 857
        },
        "outputId": "7a16b296-6759-46ff-c02b-f4e517abab38"
      },
      "source": [
        "model.summary()"
      ],
      "execution_count": 75,
      "outputs": [
        {
          "output_type": "stream",
          "text": [
            "Model: \"sequential_1\"\n",
            "_________________________________________________________________\n",
            "Layer (type)                 Output Shape              Param #   \n",
            "=================================================================\n",
            "conv2d_4 (Conv2D)            (None, 32, 32, 32)        896       \n",
            "_________________________________________________________________\n",
            "activation_6 (Activation)    (None, 32, 32, 32)        0         \n",
            "_________________________________________________________________\n",
            "batch_normalization_5 (Batch (None, 32, 32, 32)        128       \n",
            "_________________________________________________________________\n",
            "conv2d_5 (Conv2D)            (None, 32, 32, 32)        9248      \n",
            "_________________________________________________________________\n",
            "activation_7 (Activation)    (None, 32, 32, 32)        0         \n",
            "_________________________________________________________________\n",
            "batch_normalization_6 (Batch (None, 32, 32, 32)        128       \n",
            "_________________________________________________________________\n",
            "max_pooling2d_2 (MaxPooling2 (None, 16, 16, 32)        0         \n",
            "_________________________________________________________________\n",
            "conv2d_6 (Conv2D)            (None, 16, 16, 64)        18496     \n",
            "_________________________________________________________________\n",
            "activation_8 (Activation)    (None, 16, 16, 64)        0         \n",
            "_________________________________________________________________\n",
            "batch_normalization_7 (Batch (None, 16, 16, 64)        256       \n",
            "_________________________________________________________________\n",
            "conv2d_7 (Conv2D)            (None, 16, 16, 64)        36928     \n",
            "_________________________________________________________________\n",
            "activation_9 (Activation)    (None, 16, 16, 64)        0         \n",
            "_________________________________________________________________\n",
            "batch_normalization_8 (Batch (None, 16, 16, 64)        256       \n",
            "_________________________________________________________________\n",
            "max_pooling2d_3 (MaxPooling2 (None, 8, 8, 64)          0         \n",
            "_________________________________________________________________\n",
            "flatten_1 (Flatten)          (None, 4096)              0         \n",
            "_________________________________________________________________\n",
            "dense_2 (Dense)              (None, 512)               2097664   \n",
            "_________________________________________________________________\n",
            "activation_10 (Activation)   (None, 512)               0         \n",
            "_________________________________________________________________\n",
            "batch_normalization_9 (Batch (None, 512)               2048      \n",
            "_________________________________________________________________\n",
            "dropout_1 (Dropout)          (None, 512)               0         \n",
            "_________________________________________________________________\n",
            "dense_3 (Dense)              (None, 43)                22059     \n",
            "_________________________________________________________________\n",
            "activation_11 (Activation)   (None, 43)                0         \n",
            "=================================================================\n",
            "Total params: 2,188,107\n",
            "Trainable params: 2,186,699\n",
            "Non-trainable params: 1,408\n",
            "_________________________________________________________________\n"
          ],
          "name": "stdout"
        }
      ]
    },
    {
      "cell_type": "code",
      "metadata": {
        "id": "cENAVZA49rAV",
        "colab_type": "code",
        "colab": {}
      },
      "source": [
        "aug = ImageDataGenerator(rotation_range=0.19, zoom_range=0.15, width_shift_range=0.2,\n",
        "                         height_shift_range = 0.2, shear_range = 0.2, horizontal_flip = True, fill_mode = \"nearest\")"
      ],
      "execution_count": 0,
      "outputs": []
    },
    {
      "cell_type": "code",
      "metadata": {
        "id": "grFwtziR-LYH",
        "colab_type": "code",
        "colab": {}
      },
      "source": [
        "opt = SGD(learning_rate = learning_rate, momentum=0.9, decay = learning_rate / num_epochs)"
      ],
      "execution_count": 0,
      "outputs": []
    },
    {
      "cell_type": "code",
      "metadata": {
        "id": "st2TGA0v-Xbu",
        "colab_type": "code",
        "colab": {}
      },
      "source": [
        "model.compile(loss = \"categorical_crossentropy\", optimizer=opt, metrics = [\"accuracy\"])"
      ],
      "execution_count": 0,
      "outputs": []
    },
    {
      "cell_type": "code",
      "metadata": {
        "id": "rth3cw0d-oLo",
        "colab_type": "code",
        "outputId": "a2cd25cb-2241-4545-e130-dc4e1fbe4667",
        "colab": {
          "base_uri": "https://localhost:8080/",
          "height": 1000
        }
      },
      "source": [
        "print(\"Start training.............\")\n",
        "H = model.fit_generator(aug.flow(train_X, train_Y, batch_size=batch_size), validation_data=(valid_X, valid_Y),\n",
        "                        steps_per_epoch = train_X.shape[0] // batch_size, epochs = num_epochs, verbose = 1)"
      ],
      "execution_count": 79,
      "outputs": [
        {
          "output_type": "stream",
          "text": [
            "Start training.............\n",
            "Epoch 1/30\n",
            "543/543 [==============================] - 47s 86ms/step - loss: 2.7503 - accuracy: 0.2837 - val_loss: 2.6067 - val_accuracy: 0.2766\n",
            "Epoch 2/30\n",
            "543/543 [==============================] - 45s 83ms/step - loss: 1.3245 - accuracy: 0.5757 - val_loss: 1.4070 - val_accuracy: 0.5735\n",
            "Epoch 3/30\n",
            "543/543 [==============================] - 46s 85ms/step - loss: 0.7834 - accuracy: 0.7386 - val_loss: 0.8923 - val_accuracy: 0.7365\n",
            "Epoch 4/30\n",
            "543/543 [==============================] - 45s 83ms/step - loss: 0.4789 - accuracy: 0.8382 - val_loss: 0.6540 - val_accuracy: 0.7930\n",
            "Epoch 5/30\n",
            "543/543 [==============================] - 46s 84ms/step - loss: 0.3288 - accuracy: 0.8901 - val_loss: 0.7799 - val_accuracy: 0.7800\n",
            "Epoch 6/30\n",
            "543/543 [==============================] - 46s 84ms/step - loss: 0.2352 - accuracy: 0.9226 - val_loss: 0.4689 - val_accuracy: 0.8664\n",
            "Epoch 7/30\n",
            "543/543 [==============================] - 46s 84ms/step - loss: 0.1878 - accuracy: 0.9386 - val_loss: 0.4486 - val_accuracy: 0.8800\n",
            "Epoch 8/30\n",
            "543/543 [==============================] - 46s 84ms/step - loss: 0.1601 - accuracy: 0.9466 - val_loss: 0.4565 - val_accuracy: 0.8785\n",
            "Epoch 9/30\n",
            "543/543 [==============================] - 46s 84ms/step - loss: 0.1279 - accuracy: 0.9572 - val_loss: 0.5467 - val_accuracy: 0.8712\n",
            "Epoch 10/30\n",
            "543/543 [==============================] - 46s 84ms/step - loss: 0.1134 - accuracy: 0.9636 - val_loss: 0.4715 - val_accuracy: 0.8803\n",
            "Epoch 11/30\n",
            "543/543 [==============================] - 47s 87ms/step - loss: 0.1046 - accuracy: 0.9655 - val_loss: 0.4429 - val_accuracy: 0.8800\n",
            "Epoch 12/30\n",
            "543/543 [==============================] - 46s 84ms/step - loss: 0.0951 - accuracy: 0.9697 - val_loss: 0.4426 - val_accuracy: 0.8805\n",
            "Epoch 13/30\n",
            "543/543 [==============================] - 45s 82ms/step - loss: 0.0854 - accuracy: 0.9742 - val_loss: 0.4111 - val_accuracy: 0.9007\n",
            "Epoch 14/30\n",
            "543/543 [==============================] - 46s 85ms/step - loss: 0.0816 - accuracy: 0.9741 - val_loss: 0.4761 - val_accuracy: 0.8844\n",
            "Epoch 15/30\n",
            "543/543 [==============================] - 46s 86ms/step - loss: 0.0756 - accuracy: 0.9756 - val_loss: 0.4462 - val_accuracy: 0.9002\n",
            "Epoch 16/30\n",
            "543/543 [==============================] - 46s 84ms/step - loss: 0.0743 - accuracy: 0.9749 - val_loss: 0.4603 - val_accuracy: 0.8950\n",
            "Epoch 17/30\n",
            "543/543 [==============================] - 46s 85ms/step - loss: 0.0663 - accuracy: 0.9789 - val_loss: 0.4332 - val_accuracy: 0.8964\n",
            "Epoch 18/30\n",
            "543/543 [==============================] - 46s 84ms/step - loss: 0.0633 - accuracy: 0.9801 - val_loss: 0.5052 - val_accuracy: 0.8837\n",
            "Epoch 19/30\n",
            "543/543 [==============================] - 45s 84ms/step - loss: 0.0572 - accuracy: 0.9815 - val_loss: 0.4765 - val_accuracy: 0.8927\n",
            "Epoch 20/30\n",
            "543/543 [==============================] - 45s 84ms/step - loss: 0.0593 - accuracy: 0.9802 - val_loss: 0.4827 - val_accuracy: 0.8955\n",
            "Epoch 21/30\n",
            "543/543 [==============================] - 45s 82ms/step - loss: 0.0541 - accuracy: 0.9829 - val_loss: 0.4504 - val_accuracy: 0.9043\n",
            "Epoch 22/30\n",
            "543/543 [==============================] - 46s 84ms/step - loss: 0.0509 - accuracy: 0.9830 - val_loss: 0.4742 - val_accuracy: 0.8932\n",
            "Epoch 23/30\n",
            "543/543 [==============================] - 47s 86ms/step - loss: 0.0497 - accuracy: 0.9844 - val_loss: 0.4584 - val_accuracy: 0.8968\n",
            "Epoch 24/30\n",
            "543/543 [==============================] - 46s 85ms/step - loss: 0.0535 - accuracy: 0.9824 - val_loss: 0.4700 - val_accuracy: 0.8952\n",
            "Epoch 25/30\n",
            "543/543 [==============================] - 45s 83ms/step - loss: 0.0466 - accuracy: 0.9856 - val_loss: 0.4415 - val_accuracy: 0.9082\n",
            "Epoch 26/30\n",
            "543/543 [==============================] - 45s 84ms/step - loss: 0.0444 - accuracy: 0.9863 - val_loss: 0.4295 - val_accuracy: 0.9061\n",
            "Epoch 27/30\n",
            "543/543 [==============================] - 46s 84ms/step - loss: 0.0464 - accuracy: 0.9851 - val_loss: 0.5090 - val_accuracy: 0.8971\n",
            "Epoch 28/30\n",
            "543/543 [==============================] - 46s 84ms/step - loss: 0.0435 - accuracy: 0.9861 - val_loss: 0.4565 - val_accuracy: 0.9068\n",
            "Epoch 29/30\n",
            "543/543 [==============================] - 46s 85ms/step - loss: 0.0407 - accuracy: 0.9869 - val_loss: 0.4616 - val_accuracy: 0.9039\n",
            "Epoch 30/30\n",
            "543/543 [==============================] - 46s 85ms/step - loss: 0.0425 - accuracy: 0.9872 - val_loss: 0.4720 - val_accuracy: 0.9016\n"
          ],
          "name": "stdout"
        }
      ]
    },
    {
      "cell_type": "code",
      "metadata": {
        "id": "2S86J5C4Blyr",
        "colab_type": "code",
        "colab": {}
      },
      "source": [
        "model.save('trafficSignsClassification.h5')"
      ],
      "execution_count": 0,
      "outputs": []
    },
    {
      "cell_type": "code",
      "metadata": {
        "id": "k3Pu4PGIBvK8",
        "colab_type": "code",
        "colab": {}
      },
      "source": [
        "import tensorflow as tf"
      ],
      "execution_count": 0,
      "outputs": []
    },
    {
      "cell_type": "code",
      "metadata": {
        "id": "__tbTYGiB1gN",
        "colab_type": "code",
        "colab": {}
      },
      "source": [
        "model = tf.keras.models.load_model(\"trafficSignsClassification.h5\")"
      ],
      "execution_count": 0,
      "outputs": []
    },
    {
      "cell_type": "code",
      "metadata": {
        "id": "4mSMCiffB_L5",
        "colab_type": "code",
        "colab": {}
      },
      "source": [
        "result = model.predict(np.array(test_X[130:131]))"
      ],
      "execution_count": 0,
      "outputs": []
    },
    {
      "cell_type": "code",
      "metadata": {
        "id": "4eQ1UFWKCI4Q",
        "colab_type": "code",
        "colab": {
          "base_uri": "https://localhost:8080/",
          "height": 283
        },
        "outputId": "c6d34f72-eda7-4497-c875-47a8459e77bc"
      },
      "source": [
        "plt.imshow(test_X[130])"
      ],
      "execution_count": 94,
      "outputs": [
        {
          "output_type": "execute_result",
          "data": {
            "text/plain": [
              "<matplotlib.image.AxesImage at 0x7fd0d5d7f748>"
            ]
          },
          "metadata": {
            "tags": []
          },
          "execution_count": 94
        },
        {
          "output_type": "display_data",
          "data": {
            "image/png": "[encoded data removed]",
            "text/plain": [
              "<Figure size 432x288 with 1 Axes>"
            ]
          },
          "metadata": {
            "tags": [],
            "needs_background": "light"
          }
        }
      ]
    },
    {
      "cell_type": "code",
      "metadata": {
        "id": "PAvg30UmCOK4",
        "colab_type": "code",
        "colab": {}
      },
      "source": [
        "predict_label = np.argmax(result)"
      ],
      "execution_count": 0,
      "outputs": []
    },
    {
      "cell_type": "code",
      "metadata": {
        "id": "xOujgeTXCSzW",
        "colab_type": "code",
        "colab": {
          "base_uri": "https://localhost:8080/",
          "height": 34
        },
        "outputId": "faf343f4-d4df-413e-cc8d-8b78883263cf"
      },
      "source": [
        "classNames[predict_label]"
      ],
      "execution_count": 96,
      "outputs": [
        {
          "output_type": "execute_result",
          "data": {
            "text/plain": [
              "'Go straight or right'"
            ]
          },
          "metadata": {
            "tags": []
          },
          "execution_count": 96
        }
      ]
    }
  ]
}