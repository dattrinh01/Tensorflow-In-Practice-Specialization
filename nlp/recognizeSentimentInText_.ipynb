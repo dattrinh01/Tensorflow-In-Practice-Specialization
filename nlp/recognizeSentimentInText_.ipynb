{
  "nbformat": 4,
  "nbformat_minor": 0,
  "metadata": {
    "colab": {
      "name": "recognizeSentimentInText .ipynb",
      "provenance": []
    },
    "kernelspec": {
      "name": "python3",
      "display_name": "Python 3"
    },
    "accelerator": "GPU"
  },
  "cells": [
    {
      "cell_type": "code",
      "metadata": {
        "id": "6f-QYa2OI1Iw",
        "colab_type": "code",
        "colab": {
          "base_uri": "https://localhost:8080/",
          "height": 423
        },
        "outputId": "2a6ce23e-fa64-40c0-8d60-0cb1db5a0fb9"
      },
      "source": [
        "!pip install tensorflow-gpu==2.0.0-rc0"
      ],
      "execution_count": 1,
      "outputs": [
        {
          "output_type": "stream",
          "text": [
            "Requirement already satisfied: tensorflow-gpu==2.0.0-rc0 in /usr/local/lib/python3.6/dist-packages (2.0.0rc0)\n",
            "Requirement already satisfied: opt-einsum>=2.3.2 in /usr/local/lib/python3.6/dist-packages (from tensorflow-gpu==2.0.0-rc0) (3.2.1)\n",
            "Requirement already satisfied: keras-applications>=1.0.8 in /usr/local/lib/python3.6/dist-packages (from tensorflow-gpu==2.0.0-rc0) (1.0.8)\n",
            "Requirement already satisfied: wrapt>=1.11.1 in /usr/local/lib/python3.6/dist-packages (from tensorflow-gpu==2.0.0-rc0) (1.12.1)\n",
            "Requirement already satisfied: tb-nightly<1.15.0a20190807,>=1.15.0a20190806 in /usr/local/lib/python3.6/dist-packages (from tensorflow-gpu==2.0.0-rc0) (1.15.0a20190806)\n",
            "Requirement already satisfied: grpcio>=1.8.6 in /usr/local/lib/python3.6/dist-packages (from tensorflow-gpu==2.0.0-rc0) (1.29.0)\n",
            "Requirement already satisfied: numpy<2.0,>=1.16.0 in /usr/local/lib/python3.6/dist-packages (from tensorflow-gpu==2.0.0-rc0) (1.18.5)\n",
            "Requirement already satisfied: astor>=0.6.0 in /usr/local/lib/python3.6/dist-packages (from tensorflow-gpu==2.0.0-rc0) (0.8.1)\n",
            "Requirement already satisfied: protobuf>=3.6.1 in /usr/local/lib/python3.6/dist-packages (from tensorflow-gpu==2.0.0-rc0) (3.10.0)\n",
            "Requirement already satisfied: six>=1.10.0 in /usr/local/lib/python3.6/dist-packages (from tensorflow-gpu==2.0.0-rc0) (1.12.0)\n",
            "Requirement already satisfied: termcolor>=1.1.0 in /usr/local/lib/python3.6/dist-packages (from tensorflow-gpu==2.0.0-rc0) (1.1.0)\n",
            "Requirement already satisfied: google-pasta>=0.1.6 in /usr/local/lib/python3.6/dist-packages (from tensorflow-gpu==2.0.0-rc0) (0.2.0)\n",
            "Requirement already satisfied: gast>=0.2.0 in /usr/local/lib/python3.6/dist-packages (from tensorflow-gpu==2.0.0-rc0) (0.3.3)\n",
            "Requirement already satisfied: absl-py>=0.7.0 in /usr/local/lib/python3.6/dist-packages (from tensorflow-gpu==2.0.0-rc0) (0.9.0)\n",
            "Requirement already satisfied: keras-preprocessing>=1.0.5 in /usr/local/lib/python3.6/dist-packages (from tensorflow-gpu==2.0.0-rc0) (1.1.2)\n",
            "Requirement already satisfied: tf-estimator-nightly<1.14.0.dev2019080602,>=1.14.0.dev2019080601 in /usr/local/lib/python3.6/dist-packages (from tensorflow-gpu==2.0.0-rc0) (1.14.0.dev2019080601)\n",
            "Requirement already satisfied: wheel>=0.26 in /usr/local/lib/python3.6/dist-packages (from tensorflow-gpu==2.0.0-rc0) (0.34.2)\n",
            "Requirement already satisfied: h5py in /usr/local/lib/python3.6/dist-packages (from keras-applications>=1.0.8->tensorflow-gpu==2.0.0-rc0) (2.10.0)\n",
            "Requirement already satisfied: werkzeug>=0.11.15 in /usr/local/lib/python3.6/dist-packages (from tb-nightly<1.15.0a20190807,>=1.15.0a20190806->tensorflow-gpu==2.0.0-rc0) (1.0.1)\n",
            "Requirement already satisfied: setuptools>=41.0.0 in /usr/local/lib/python3.6/dist-packages (from tb-nightly<1.15.0a20190807,>=1.15.0a20190806->tensorflow-gpu==2.0.0-rc0) (47.3.1)\n",
            "Requirement already satisfied: markdown>=2.6.8 in /usr/local/lib/python3.6/dist-packages (from tb-nightly<1.15.0a20190807,>=1.15.0a20190806->tensorflow-gpu==2.0.0-rc0) (3.2.2)\n",
            "Requirement already satisfied: importlib-metadata; python_version < \"3.8\" in /usr/local/lib/python3.6/dist-packages (from markdown>=2.6.8->tb-nightly<1.15.0a20190807,>=1.15.0a20190806->tensorflow-gpu==2.0.0-rc0) (1.6.1)\n",
            "Requirement already satisfied: zipp>=0.5 in /usr/local/lib/python3.6/dist-packages (from importlib-metadata; python_version < \"3.8\"->markdown>=2.6.8->tb-nightly<1.15.0a20190807,>=1.15.0a20190806->tensorflow-gpu==2.0.0-rc0) (3.1.0)\n"
          ],
          "name": "stdout"
        }
      ]
    },
    {
      "cell_type": "code",
      "metadata": {
        "id": "kPFQIgVrI8o_",
        "colab_type": "code",
        "colab": {}
      },
      "source": [
        "import json\n",
        "import numpy as np\n",
        "import pandas as pd\n",
        "import matplotlib.pyplot as plt"
      ],
      "execution_count": 2,
      "outputs": []
    },
    {
      "cell_type": "code",
      "metadata": {
        "id": "_7vDS6gWMVgw",
        "colab_type": "code",
        "colab": {}
      },
      "source": [
        "from tensorflow.keras.preprocessing.text import Tokenizer\n",
        "from tensorflow.keras.preprocessing.sequence import pad_sequences\n",
        "from tensorflow.keras.models import Sequential\n",
        "from tensorflow.keras.layers import Embedding, GlobalAveragePooling1D, Dense"
      ],
      "execution_count": 3,
      "outputs": []
    },
    {
      "cell_type": "code",
      "metadata": {
        "id": "HN2sIz51JTMZ",
        "colab_type": "code",
        "colab": {
          "base_uri": "https://localhost:8080/",
          "height": 34
        },
        "outputId": "eec7e889-cce2-4c43-b48e-59965fe16c8a"
      },
      "source": [
        "!pip install wget"
      ],
      "execution_count": 4,
      "outputs": [
        {
          "output_type": "stream",
          "text": [
            "Requirement already satisfied: wget in /usr/local/lib/python3.6/dist-packages (3.2)\n"
          ],
          "name": "stdout"
        }
      ]
    },
    {
      "cell_type": "code",
      "metadata": {
        "id": "gBx4YuitJW1y",
        "colab_type": "code",
        "colab": {}
      },
      "source": [
        "import wget"
      ],
      "execution_count": 5,
      "outputs": []
    },
    {
      "cell_type": "code",
      "metadata": {
        "id": "6oEsgo6JJb6j",
        "colab_type": "code",
        "colab": {
          "base_uri": "https://localhost:8080/",
          "height": 202
        },
        "outputId": "0a1a607f-957d-485f-85e6-28e884bdbd78"
      },
      "source": [
        "!wget --no-check-certificate \\\n",
        "    https://storage.googleapis.com/laurencemoroney-blog.appspot.com/sarcasm.json \\\n",
        "    -O /tmp/sarcasm.json"
      ],
      "execution_count": 6,
      "outputs": [
        {
          "output_type": "stream",
          "text": [
            "--2020-06-20 16:23:48--  https://storage.googleapis.com/laurencemoroney-blog.appspot.com/sarcasm.json\n",
            "Resolving storage.googleapis.com (storage.googleapis.com)... 74.125.20.128, 2607:f8b0:400e:c09::80\n",
            "Connecting to storage.googleapis.com (storage.googleapis.com)|74.125.20.128|:443... connected.\n",
            "HTTP request sent, awaiting response... 200 OK\n",
            "Length: 5643545 (5.4M) [application/json]\n",
            "Saving to: ‘/tmp/sarcasm.json’\n",
            "\n",
            "\r/tmp/sarcasm.json     0%[                    ]       0  --.-KB/s               \r/tmp/sarcasm.json   100%[===================>]   5.38M  --.-KB/s    in 0.02s   \n",
            "\n",
            "2020-06-20 16:23:48 (277 MB/s) - ‘/tmp/sarcasm.json’ saved [5643545/5643545]\n",
            "\n"
          ],
          "name": "stdout"
        }
      ]
    },
    {
      "cell_type": "code",
      "metadata": {
        "id": "1Ae-jce0Jd95",
        "colab_type": "code",
        "colab": {}
      },
      "source": [
        "with open(\"/tmp/sarcasm.json\", 'r') as f:\n",
        "    datastore = json.load(f)"
      ],
      "execution_count": 7,
      "outputs": []
    },
    {
      "cell_type": "markdown",
      "metadata": {
        "id": "wpYNIqDgjT0C",
        "colab_type": "text"
      },
      "source": [
        "# Prepare data"
      ]
    },
    {
      "cell_type": "code",
      "metadata": {
        "id": "6cgCriRBf9Es",
        "colab_type": "code",
        "colab": {}
      },
      "source": [
        "sentences = []\n",
        "label = []\n",
        "\n",
        "for item in datastore:\n",
        "    sentences.append(item[\"headline\"])\n",
        "    label.append(item[\"is_sarcastic\"])"
      ],
      "execution_count": 8,
      "outputs": []
    },
    {
      "cell_type": "markdown",
      "metadata": {
        "id": "O4o4g0nXjZ8y",
        "colab_type": "text"
      },
      "source": [
        "# Split data into training set and testing set"
      ]
    },
    {
      "cell_type": "code",
      "metadata": {
        "id": "qQe-G_pSeOtx",
        "colab_type": "code",
        "colab": {}
      },
      "source": [
        "training_sentences = sentences[0:20000]\n",
        "testing_sentences = sentences[20000:]\n",
        "training_label = label[0:20000]\n",
        "testing_label = label[20000:]"
      ],
      "execution_count": 9,
      "outputs": []
    },
    {
      "cell_type": "markdown",
      "metadata": {
        "id": "xCkp5atDjiMu",
        "colab_type": "text"
      },
      "source": [
        "# Tokenizer and padding sequences"
      ]
    },
    {
      "cell_type": "code",
      "metadata": {
        "id": "Ub3ShWf_ib6V",
        "colab_type": "code",
        "colab": {}
      },
      "source": [
        "tokenizer = Tokenizer(num_words = 10000, oov_token = \"<OOV>\")\n",
        "tokenizer.fit_on_texts(training_sentences)\n",
        "word_index = tokenizer.word_index\n",
        "\n",
        "training_sequences = tokenizer.texts_to_sequences(training_sentences)\n",
        "training_padded = pad_sequences(training_sequences, maxlen = 100, padding = \"post\", truncating = \"post\")\n",
        "\n",
        "testing_sequences = tokenizer.texts_to_sequences(testing_sentences)\n",
        "testing_padded = pad_sequences(testing_sequences, maxlen = 100, padding = \"post\", truncating = \"post\")"
      ],
      "execution_count": 10,
      "outputs": []
    },
    {
      "cell_type": "markdown",
      "metadata": {
        "id": "AzMGK2bCjsR6",
        "colab_type": "text"
      },
      "source": [
        "# Convert data to array for training model"
      ]
    },
    {
      "cell_type": "code",
      "metadata": {
        "id": "1tYBGMGpfGhm",
        "colab_type": "code",
        "colab": {}
      },
      "source": [
        "training_padded = np.array(training_padded)\n",
        "testing_padded = np.array(testing_padded)\n",
        "training_label = np.array(training_label)\n",
        "testing_label = np.array(testing_label)"
      ],
      "execution_count": 11,
      "outputs": []
    },
    {
      "cell_type": "markdown",
      "metadata": {
        "id": "eYmlBjFwjxno",
        "colab_type": "text"
      },
      "source": [
        "# Create model"
      ]
    },
    {
      "cell_type": "code",
      "metadata": {
        "id": "MDm6UIjLeH6T",
        "colab_type": "code",
        "colab": {}
      },
      "source": [
        "def createModel():\n",
        "    model = Sequential()\n",
        "    model.add(Embedding(input_dim = 10000, output_dim = 16, input_length = 100))\n",
        "    model.add(GlobalAveragePooling1D())\n",
        "    model.add(Dense(24, activation = \"relu\"))\n",
        "    model.add(Dense(1, activation = \"sigmoid\"))\n",
        "    \n",
        "    return model"
      ],
      "execution_count": 12,
      "outputs": []
    },
    {
      "cell_type": "code",
      "metadata": {
        "id": "TLvrboDIUS7B",
        "colab_type": "code",
        "colab": {}
      },
      "source": [
        "model = createModel()"
      ],
      "execution_count": 13,
      "outputs": []
    },
    {
      "cell_type": "code",
      "metadata": {
        "id": "Cd_e09l_UaWA",
        "colab_type": "code",
        "colab": {}
      },
      "source": [
        "model.compile(\n",
        "        loss = \"binary_crossentropy\",\n",
        "        optimizer = \"adam\",\n",
        "        metrics = [\"acc\"]\n",
        "    )"
      ],
      "execution_count": 14,
      "outputs": []
    },
    {
      "cell_type": "markdown",
      "metadata": {
        "id": "gelhYzVaj1Ao",
        "colab_type": "text"
      },
      "source": [
        "# Training model"
      ]
    },
    {
      "cell_type": "code",
      "metadata": {
        "id": "4NhwEDMrS0be",
        "colab_type": "code",
        "colab": {
          "base_uri": "https://localhost:8080/",
          "height": 1000
        },
        "outputId": "6145dcc8-e109-4a07-c993-bf18d0499ae5"
      },
      "source": [
        "history = model.fit(\n",
        "      training_padded,\n",
        "      training_label,\n",
        "      epochs = 30,\n",
        "      validation_data = (testing_padded, testing_label),\n",
        "      verbose = 1,\n",
        ")"
      ],
      "execution_count": 15,
      "outputs": [
        {
          "output_type": "stream",
          "text": [
            "Train on 20000 samples, validate on 6709 samples\n",
            "Epoch 1/30\n",
            "WARNING:tensorflow:From /usr/local/lib/python3.6/dist-packages/tensorflow_core/python/ops/nn_impl.py:183: where (from tensorflow.python.ops.array_ops) is deprecated and will be removed in a future version.\n",
            "Instructions for updating:\n",
            "Use tf.where in 2.0, which has the same broadcast rule as np.where\n",
            "WARNING:tensorflow:Entity <function Function._initialize_uninitialized_variables.<locals>.initialize_variables at 0x7fd8100f3488> could not be transformed and will be executed as-is. Please report this to the AutoGraph team. When filing the bug, set the verbosity to 10 (on Linux, `export AUTOGRAPH_VERBOSITY=10`) and attach the full output. Cause: module 'gast' has no attribute 'Num'\n",
            "WARNING: Entity <function Function._initialize_uninitialized_variables.<locals>.initialize_variables at 0x7fd8100f3488> could not be transformed and will be executed as-is. Please report this to the AutoGraph team. When filing the bug, set the verbosity to 10 (on Linux, `export AUTOGRAPH_VERBOSITY=10`) and attach the full output. Cause: module 'gast' has no attribute 'Num'\n",
            "20000/20000 [==============================] - 4s 222us/sample - loss: 0.6790 - acc: 0.5634 - val_loss: 0.6405 - val_acc: 0.6108\n",
            "Epoch 2/30\n",
            "20000/20000 [==============================] - 4s 182us/sample - loss: 0.4809 - acc: 0.8003 - val_loss: 0.4031 - val_acc: 0.8314\n",
            "Epoch 3/30\n",
            "20000/20000 [==============================] - 4s 186us/sample - loss: 0.3294 - acc: 0.8681 - val_loss: 0.3802 - val_acc: 0.8269\n",
            "Epoch 4/30\n",
            "20000/20000 [==============================] - 4s 186us/sample - loss: 0.2746 - acc: 0.8917 - val_loss: 0.3486 - val_acc: 0.8504\n",
            "Epoch 5/30\n",
            "20000/20000 [==============================] - 4s 186us/sample - loss: 0.2385 - acc: 0.9079 - val_loss: 0.3429 - val_acc: 0.8529\n",
            "Epoch 6/30\n",
            "20000/20000 [==============================] - 4s 186us/sample - loss: 0.2097 - acc: 0.9198 - val_loss: 0.3441 - val_acc: 0.8532\n",
            "Epoch 7/30\n",
            "20000/20000 [==============================] - 4s 187us/sample - loss: 0.1876 - acc: 0.9292 - val_loss: 0.3536 - val_acc: 0.8559\n",
            "Epoch 8/30\n",
            "20000/20000 [==============================] - 4s 187us/sample - loss: 0.1694 - acc: 0.9352 - val_loss: 0.3625 - val_acc: 0.8541\n",
            "Epoch 9/30\n",
            "20000/20000 [==============================] - 4s 188us/sample - loss: 0.1526 - acc: 0.9442 - val_loss: 0.3802 - val_acc: 0.8515\n",
            "Epoch 10/30\n",
            "20000/20000 [==============================] - 4s 185us/sample - loss: 0.1400 - acc: 0.9493 - val_loss: 0.3939 - val_acc: 0.8526\n",
            "Epoch 11/30\n",
            "20000/20000 [==============================] - 4s 190us/sample - loss: 0.1258 - acc: 0.9563 - val_loss: 0.4102 - val_acc: 0.8535\n",
            "Epoch 12/30\n",
            "20000/20000 [==============================] - 4s 194us/sample - loss: 0.1159 - acc: 0.9597 - val_loss: 0.4320 - val_acc: 0.8499\n",
            "Epoch 13/30\n",
            "20000/20000 [==============================] - 4s 186us/sample - loss: 0.1067 - acc: 0.9628 - val_loss: 0.4597 - val_acc: 0.8432\n",
            "Epoch 14/30\n",
            "20000/20000 [==============================] - 4s 188us/sample - loss: 0.0980 - acc: 0.9670 - val_loss: 0.4736 - val_acc: 0.8444\n",
            "Epoch 15/30\n",
            "20000/20000 [==============================] - 4s 185us/sample - loss: 0.0897 - acc: 0.9704 - val_loss: 0.5160 - val_acc: 0.8354\n",
            "Epoch 16/30\n",
            "20000/20000 [==============================] - 4s 186us/sample - loss: 0.0818 - acc: 0.9735 - val_loss: 0.5260 - val_acc: 0.8401\n",
            "Epoch 17/30\n",
            "20000/20000 [==============================] - 4s 186us/sample - loss: 0.0772 - acc: 0.9750 - val_loss: 0.5568 - val_acc: 0.8384\n",
            "Epoch 18/30\n",
            "20000/20000 [==============================] - 4s 184us/sample - loss: 0.0709 - acc: 0.9772 - val_loss: 0.5904 - val_acc: 0.8332\n",
            "Epoch 19/30\n",
            "20000/20000 [==============================] - 4s 185us/sample - loss: 0.0645 - acc: 0.9796 - val_loss: 0.6068 - val_acc: 0.8338\n",
            "Epoch 20/30\n",
            "20000/20000 [==============================] - 4s 185us/sample - loss: 0.0596 - acc: 0.9817 - val_loss: 0.6414 - val_acc: 0.8314\n",
            "Epoch 21/30\n",
            "20000/20000 [==============================] - 4s 186us/sample - loss: 0.0550 - acc: 0.9834 - val_loss: 0.6684 - val_acc: 0.8281\n",
            "Epoch 22/30\n",
            "20000/20000 [==============================] - 4s 188us/sample - loss: 0.0503 - acc: 0.9852 - val_loss: 0.7157 - val_acc: 0.8262\n",
            "Epoch 23/30\n",
            "20000/20000 [==============================] - 4s 184us/sample - loss: 0.0464 - acc: 0.9861 - val_loss: 0.7284 - val_acc: 0.8250\n",
            "Epoch 24/30\n",
            "20000/20000 [==============================] - 4s 184us/sample - loss: 0.0441 - acc: 0.9875 - val_loss: 0.7684 - val_acc: 0.8216\n",
            "Epoch 25/30\n",
            "20000/20000 [==============================] - 4s 185us/sample - loss: 0.0405 - acc: 0.9876 - val_loss: 0.8094 - val_acc: 0.8189\n",
            "Epoch 26/30\n",
            "20000/20000 [==============================] - 4s 185us/sample - loss: 0.0373 - acc: 0.9893 - val_loss: 0.8505 - val_acc: 0.8179\n",
            "Epoch 27/30\n",
            "20000/20000 [==============================] - 4s 186us/sample - loss: 0.0352 - acc: 0.9898 - val_loss: 0.9025 - val_acc: 0.8147\n",
            "Epoch 28/30\n",
            "20000/20000 [==============================] - 4s 187us/sample - loss: 0.0334 - acc: 0.9903 - val_loss: 0.9290 - val_acc: 0.8134\n",
            "Epoch 29/30\n",
            "20000/20000 [==============================] - 4s 189us/sample - loss: 0.0281 - acc: 0.9926 - val_loss: 0.9294 - val_acc: 0.8189\n",
            "Epoch 30/30\n",
            "20000/20000 [==============================] - 4s 189us/sample - loss: 0.0278 - acc: 0.9923 - val_loss: 0.9689 - val_acc: 0.8131\n"
          ],
          "name": "stdout"
        }
      ]
    },
    {
      "cell_type": "code",
      "metadata": {
        "id": "Of3j5v1Jbcls",
        "colab_type": "code",
        "colab": {
          "base_uri": "https://localhost:8080/",
          "height": 542
        },
        "outputId": "192efae7-c81b-4058-c914-dae1c790e2ae"
      },
      "source": [
        "def plot_graphs(history, string):\n",
        "  plt.plot(history.history[string])\n",
        "  plt.plot(history.history['val_'+string])\n",
        "  plt.xlabel(\"Epochs\")\n",
        "  plt.ylabel(string)\n",
        "  plt.legend([string, 'val_'+string])\n",
        "  plt.show()\n",
        "  \n",
        "plot_graphs(history, \"acc\")\n",
        "plot_graphs(history, \"loss\")"
      ],
      "execution_count": 16,
      "outputs": [
        {
          "output_type": "display_data",
          "data": {
            "image/png": "[encoded data removed]",
            "text/plain": [
              "<Figure size 432x288 with 1 Axes>"
            ]
          },
          "metadata": {
            "tags": [],
            "needs_background": "light"
          }
        },
        {
          "output_type": "display_data",
          "data": {
            "image/png": "[encoded data removed]",
            "text/plain": [
              "<Figure size 432x288 with 1 Axes>"
            ]
          },
          "metadata": {
            "tags": [],
            "needs_background": "light"
          }
        }
      ]
    },
    {
      "cell_type": "markdown",
      "metadata": {
        "id": "0roSQg1vj5ou",
        "colab_type": "text"
      },
      "source": [
        "# Predict the sentences"
      ]
    },
    {
      "cell_type": "code",
      "metadata": {
        "id": "w1gZfn2Cbj6-",
        "colab_type": "code",
        "colab": {
          "base_uri": "https://localhost:8080/",
          "height": 50
        },
        "outputId": "39d92083-82f1-4b9e-e1b0-42b63640b040"
      },
      "source": [
        "sentence = [\"granny starting to fear spiders in the garden might be real\", \"game of thrones season finale showing this sunday night\"]\n",
        "sequences = tokenizer.texts_to_sequences(sentence)\n",
        "padded = pad_sequences(sequences, maxlen=100, padding=\"post\", truncating=\"post\")\n",
        "print(model.predict(padded))"
      ],
      "execution_count": 17,
      "outputs": [
        {
          "output_type": "stream",
          "text": [
            "[[9.674928e-01]\n",
            " [7.926742e-05]]\n"
          ],
          "name": "stdout"
        }
      ]
    }
  ]
}