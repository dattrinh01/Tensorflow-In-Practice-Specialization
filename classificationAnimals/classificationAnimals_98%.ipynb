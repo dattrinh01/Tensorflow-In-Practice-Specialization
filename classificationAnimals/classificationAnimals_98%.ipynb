{
 "cells": [
  {
   "cell_type": "code",
   "execution_count": 1,
   "metadata": {
    "colab": {
     "base_uri": "https://localhost:8080/",
     "height": 121
    },
    "colab_type": "code",
    "id": "w8dX9lfwBw9H",
    "outputId": "4a1fa01c-b7e7-40f3-baeb-39b0e5ce58fd"
   },
   "outputs": [
    {
     "name": "stdout",
     "output_type": "stream",
     "text": [
      "Go to this URL in a browser: https://accounts.google.com/o/oauth2/auth?client_id=947318989803-6bn6qk8qdgf4n4g3pfee6491hc0brc4i.apps.googleusercontent.com&redirect_uri=urn%3aietf%3awg%3aoauth%3a2.0%3aoob&response_type=code&scope=email%20https%3a%2f%2fwww.googleapis.com%2fauth%2fdocs.test%20https%3a%2f%2fwww.googleapis.com%2fauth%2fdrive%20https%3a%2f%2fwww.googleapis.com%2fauth%2fdrive.photos.readonly%20https%3a%2f%2fwww.googleapis.com%2fauth%2fpeopleapi.readonly\n",
      "\n",
      "Enter your authorization code:\n",
      "··········\n",
      "Mounted at /content/gdrive\n"
     ]
    }
   ],
   "source": [
    "from google.colab import drive\n",
    "drive.mount(\"/content/gdrive\")"
   ]
  },
  {
   "cell_type": "code",
   "execution_count": 11,
   "metadata": {
    "colab": {
     "base_uri": "https://localhost:8080/",
     "height": 34
    },
    "colab_type": "code",
    "id": "TDfpaOy1Bx19",
    "outputId": "a45be4db-bcb7-4577-d4f0-1b91650ef772"
   },
   "outputs": [
    {
     "name": "stdout",
     "output_type": "stream",
     "text": [
      "Requirement already satisfied: wget in /usr/local/lib/python3.6/dist-packages (3.2)\n"
     ]
    }
   ],
   "source": [
    "pip install wget"
   ]
  },
  {
   "cell_type": "code",
   "execution_count": 12,
   "metadata": {
    "colab": {
     "base_uri": "https://localhost:8080/",
     "height": 34
    },
    "colab_type": "code",
    "id": "9mFZx-xXB0-5",
    "outputId": "68b0b083-bc17-414c-8d44-500656a9eb8e"
   },
   "outputs": [
    {
     "name": "stdout",
     "output_type": "stream",
     "text": [
      "/content/gdrive/My Drive/ML\n"
     ]
    }
   ],
   "source": [
    "cd/content/gdrive/My Drive/ML"
   ]
  },
  {
   "cell_type": "code",
   "execution_count": 0,
   "metadata": {
    "colab": {},
    "colab_type": "code",
    "id": "Ykp3Yod0B1XY"
   },
   "outputs": [],
   "source": [
    "import wget"
   ]
  },
  {
   "cell_type": "code",
   "execution_count": 0,
   "metadata": {
    "colab": {},
    "colab_type": "code",
    "id": "AWYXyhyYB3rO"
   },
   "outputs": [],
   "source": [
    "link = \"https://storage.googleapis.com/kaggle-data-sets/59760/840806/bundle/archive.zip?GoogleAccessId=web-data@kaggle-161607.iam.gserviceaccount.com&Expires=1589733452&Signature=ZsICwn0Rko1LcqYf%2Fm5Pxzy6P2WMPHWDc32VOOZ5O%2FffQIZeFi1qLgaLLkC0PJmmYcajbBGEzj6ncXQ6%2BFk9apbGAMaDXqxpFtz1NRVkZGmUgHZV6cQJJJJM2VaMo6Bq09L570QuYoP0uHROPYzTReHZvHrSer4r%2FjgGdggoBP9bn2K9fXaXOW14FfSsV7YhMgBrgzbaIBaq%2BQxXGkqflgk3u4Zl2eGvrlijqkk61%2FYOLVJvf2xiV%2Bu3Sr7Dm71xIXQ29ggrQqWyknhEIl%2Fh3ZC571XM%2Bd%2B5QwScN5AA9cBiRtTdwlAeMZoccCqd4r8XEPExkEJHNKN07oiXooosoA%3D%3D&response-content-disposition=attachment%3B+filename%3Danimals10.zip\""
   ]
  },
  {
   "cell_type": "code",
   "execution_count": 18,
   "metadata": {
    "colab": {
     "base_uri": "https://localhost:8080/",
     "height": 34
    },
    "colab_type": "code",
    "id": "9oakU1-IB5BO",
    "outputId": "be7408a9-6d05-4792-8f34-fe1bb0a5029d"
   },
   "outputs": [
    {
     "data": {
      "text/plain": [
       "'animals10 (1).zip'"
      ]
     },
     "execution_count": 18,
     "metadata": {
      "tags": []
     },
     "output_type": "execute_result"
    }
   ],
   "source": [
    "wget.download(link)"
   ]
  },
  {
   "cell_type": "code",
   "execution_count": 0,
   "metadata": {
    "colab": {},
    "colab_type": "code",
    "id": "cJirzWShB6Ee"
   },
   "outputs": [],
   "source": [
    "data = \"./\""
   ]
  },
  {
   "cell_type": "code",
   "execution_count": 0,
   "metadata": {
    "colab": {},
    "colab_type": "code",
    "id": "JzQYvMWJB7gS"
   },
   "outputs": [],
   "source": [
    "!unzip -q animals10.zip -d $data"
   ]
  },
  {
   "cell_type": "code",
   "execution_count": 21,
   "metadata": {
    "colab": {
     "base_uri": "https://localhost:8080/",
     "height": 104
    },
    "colab_type": "code",
    "id": "awvj1QjuB8pJ",
    "outputId": "0f28ad99-68c3-4ec7-b567-10d0a069abf0"
   },
   "outputs": [
    {
     "name": "stdout",
     "output_type": "stream",
     "text": [
      "Collecting split-folders\n",
      "  Downloading https://files.pythonhosted.org/packages/20/67/29dda743e6d23ac1ea3d16704d8bbb48d65faf3f1b1eaf53153b3da56c56/split_folders-0.3.1-py3-none-any.whl\n",
      "Installing collected packages: split-folders\n",
      "Successfully installed split-folders-0.3.1\n"
     ]
    }
   ],
   "source": [
    "pip install split-folders"
   ]
  },
  {
   "cell_type": "code",
   "execution_count": 0,
   "metadata": {
    "colab": {},
    "colab_type": "code",
    "id": "EILHgNsgB-IR"
   },
   "outputs": [],
   "source": [
    "import split_folders as sf"
   ]
  },
  {
   "cell_type": "code",
   "execution_count": 23,
   "metadata": {
    "colab": {
     "base_uri": "https://localhost:8080/",
     "height": 34
    },
    "colab_type": "code",
    "id": "LvskqjY0B_jI",
    "outputId": "0ba4f0b2-8c52-4dd6-bf54-4292a095c438"
   },
   "outputs": [
    {
     "name": "stderr",
     "output_type": "stream",
     "text": [
      "Copying files: 26179 files [09:37, 45.37 files/s]\n"
     ]
    }
   ],
   "source": [
    "sf.ratio(\"raw-img\", output = \"./\", ratio = (.8,.1,.1))"
   ]
  },
  {
   "cell_type": "code",
   "execution_count": 0,
   "metadata": {
    "colab": {},
    "colab_type": "code",
    "id": "hkhx4x_lCAv1"
   },
   "outputs": [],
   "source": [
    "train_data = data + \"./train\"\n",
    "valid_data = data + \"./val\""
   ]
  },
  {
   "cell_type": "code",
   "execution_count": 0,
   "metadata": {
    "colab": {},
    "colab_type": "code",
    "id": "jJhYf0WKCCkD"
   },
   "outputs": [],
   "source": [
    "from tensorflow.keras.models import Sequential\n",
    "from tensorflow.keras.layers import Conv2D\n",
    "from tensorflow.keras.layers import MaxPool2D\n",
    "from tensorflow.keras.layers import BatchNormalization\n",
    "from tensorflow.keras.layers import Flatten\n",
    "from tensorflow.keras.layers import Dense\n",
    "from tensorflow.keras.layers import Dropout\n",
    "from tensorflow.keras.preprocessing.image import ImageDataGenerator"
   ]
  },
  {
   "cell_type": "code",
   "execution_count": 0,
   "metadata": {
    "colab": {},
    "colab_type": "code",
    "id": "TBjj55GNCFNC"
   },
   "outputs": [],
   "source": [
    "import numpy as np\n",
    "import pandas as pd\n",
    "import matplotlib.pyplot as plt\n",
    "import os"
   ]
  },
  {
   "cell_type": "code",
   "execution_count": 0,
   "metadata": {
    "colab": {},
    "colab_type": "code",
    "id": "aQnVIChRCGtv"
   },
   "outputs": [],
   "source": [
    "model = Sequential()"
   ]
  },
  {
   "cell_type": "code",
   "execution_count": 0,
   "metadata": {
    "colab": {},
    "colab_type": "code",
    "id": "ejkndBE4CH97"
   },
   "outputs": [],
   "source": [
    "model.add(Conv2D(16, (3,3), activation=\"relu\", input_shape = (100,100,3)))\n",
    "model.add(BatchNormalization())\n",
    "model.add(Conv2D(32, (3,3), activation=\"relu\"))\n",
    "model.add(BatchNormalization())\n",
    "model.add(MaxPool2D(2,2))"
   ]
  },
  {
   "cell_type": "code",
   "execution_count": 0,
   "metadata": {
    "colab": {},
    "colab_type": "code",
    "id": "55cobpZhCJGA"
   },
   "outputs": [],
   "source": [
    "model.add(Conv2D(64, (3,3), activation=\"relu\"))\n",
    "model.add(BatchNormalization())\n",
    "model.add(Conv2D(128, (3,3), activation=\"relu\"))\n",
    "model.add(MaxPool2D(2,2))"
   ]
  },
  {
   "cell_type": "code",
   "execution_count": 30,
   "metadata": {
    "colab": {
     "base_uri": "https://localhost:8080/",
     "height": 622
    },
    "colab_type": "code",
    "id": "61LUlTPHCKVg",
    "outputId": "e9ae2c42-e778-4f89-d45f-9a76f0c8db63"
   },
   "outputs": [
    {
     "name": "stdout",
     "output_type": "stream",
     "text": [
      "Model: \"sequential\"\n",
      "_________________________________________________________________\n",
      "Layer (type)                 Output Shape              Param #   \n",
      "=================================================================\n",
      "conv2d (Conv2D)              (None, 98, 98, 16)        448       \n",
      "_________________________________________________________________\n",
      "batch_normalization (BatchNo (None, 98, 98, 16)        64        \n",
      "_________________________________________________________________\n",
      "conv2d_1 (Conv2D)            (None, 96, 96, 32)        4640      \n",
      "_________________________________________________________________\n",
      "batch_normalization_1 (Batch (None, 96, 96, 32)        128       \n",
      "_________________________________________________________________\n",
      "max_pooling2d (MaxPooling2D) (None, 48, 48, 32)        0         \n",
      "_________________________________________________________________\n",
      "conv2d_2 (Conv2D)            (None, 46, 46, 64)        18496     \n",
      "_________________________________________________________________\n",
      "batch_normalization_2 (Batch (None, 46, 46, 64)        256       \n",
      "_________________________________________________________________\n",
      "conv2d_3 (Conv2D)            (None, 44, 44, 128)       73856     \n",
      "_________________________________________________________________\n",
      "max_pooling2d_1 (MaxPooling2 (None, 22, 22, 128)       0         \n",
      "_________________________________________________________________\n",
      "flatten (Flatten)            (None, 61952)             0         \n",
      "_________________________________________________________________\n",
      "dropout (Dropout)            (None, 61952)             0         \n",
      "_________________________________________________________________\n",
      "dense (Dense)                (None, 512)               31719936  \n",
      "_________________________________________________________________\n",
      "dropout_1 (Dropout)          (None, 512)               0         \n",
      "_________________________________________________________________\n",
      "dense_1 (Dense)              (None, 10)                5130      \n",
      "=================================================================\n",
      "Total params: 31,822,954\n",
      "Trainable params: 31,822,730\n",
      "Non-trainable params: 224\n",
      "_________________________________________________________________\n"
     ]
    }
   ],
   "source": [
    "model.add(Flatten())\n",
    "model.add(Dropout(0.5))\n",
    "model.add(Dense(512, activation=\"relu\"))\n",
    "model.add(Dropout(0.5))\n",
    "model.add(Dense(10, activation= \"softmax\"))\n",
    "model.summary()"
   ]
  },
  {
   "cell_type": "code",
   "execution_count": 0,
   "metadata": {
    "colab": {},
    "colab_type": "code",
    "id": "Wwr2MWa9CNh1"
   },
   "outputs": [],
   "source": [
    "gen_train = ImageDataGenerator(rescale=1/255)\n",
    "gen_valid = ImageDataGenerator(rescale=1/255)"
   ]
  },
  {
   "cell_type": "code",
   "execution_count": 32,
   "metadata": {
    "colab": {
     "base_uri": "https://localhost:8080/",
     "height": 34
    },
    "colab_type": "code",
    "id": "XhTZc-l5CO5Q",
    "outputId": "1613880f-39fe-433e-9ea0-25fcaeacf053"
   },
   "outputs": [
    {
     "name": "stdout",
     "output_type": "stream",
     "text": [
      "Found 20938 images belonging to 10 classes.\n"
     ]
    }
   ],
   "source": [
    "gen_train_data = gen_train.flow_from_directory(\n",
    "    train_data,\n",
    "    target_size = (100,100),\n",
    "    color_mode = \"rgb\",\n",
    "    batch_size = 130,\n",
    "    class_mode = \"categorical\"\n",
    ")"
   ]
  },
  {
   "cell_type": "code",
   "execution_count": 33,
   "metadata": {
    "colab": {
     "base_uri": "https://localhost:8080/",
     "height": 34
    },
    "colab_type": "code",
    "id": "3pNcNSN1CP9R",
    "outputId": "e1306fec-9e5c-42e8-a54f-e3b79376d9ac"
   },
   "outputs": [
    {
     "name": "stdout",
     "output_type": "stream",
     "text": [
      "Found 2614 images belonging to 10 classes.\n"
     ]
    }
   ],
   "source": [
    "gen_valid_data = gen_valid.flow_from_directory(\n",
    "    valid_data,\n",
    "    target_size = (100,100),\n",
    "    color_mode = \"rgb\",\n",
    "    batch_size = 130,\n",
    "    class_mode = \"categorical\"\n",
    ")"
   ]
  },
  {
   "cell_type": "code",
   "execution_count": 0,
   "metadata": {
    "colab": {},
    "colab_type": "code",
    "id": "C38GrU8FCRGw"
   },
   "outputs": [],
   "source": [
    "model.compile(optimizer=\"adam\", loss = \"categorical_crossentropy\", metrics=[\"acc\"])"
   ]
  },
  {
   "cell_type": "code",
   "execution_count": 35,
   "metadata": {
    "colab": {
     "base_uri": "https://localhost:8080/",
     "height": 1000
    },
    "colab_type": "code",
    "id": "gk3b8CWmCSfS",
    "outputId": "fb0cd7de-c158-45ea-dfec-1be6b3e918ba"
   },
   "outputs": [
    {
     "name": "stdout",
     "output_type": "stream",
     "text": [
      "WARNING:tensorflow:From <ipython-input-35-0ce43ce6dd45>:7: Model.fit_generator (from tensorflow.python.keras.engine.training) is deprecated and will be removed in a future version.\n",
      "Instructions for updating:\n",
      "Please use Model.fit, which supports generators.\n",
      "Epoch 1/40\n",
      "1000/1000 [==============================] - 1016s 1s/step - loss: 2.5227 - acc: 0.2722 - val_loss: 2.0131 - val_acc: 0.2747\n",
      "Epoch 2/40\n",
      "1000/1000 [==============================] - 1027s 1s/step - loss: 1.9548 - acc: 0.3150 - val_loss: 1.7626 - val_acc: 0.3844\n",
      "Epoch 3/40\n",
      "1000/1000 [==============================] - 998s 998ms/step - loss: 1.8209 - acc: 0.3535 - val_loss: 1.8393 - val_acc: 0.3993\n",
      "Epoch 4/40\n",
      "1000/1000 [==============================] - 937s 937ms/step - loss: 1.7003 - acc: 0.3839 - val_loss: 1.5064 - val_acc: 0.4633\n",
      "Epoch 5/40\n",
      "1000/1000 [==============================] - 895s 895ms/step - loss: 1.4863 - acc: 0.4503 - val_loss: 1.2709 - val_acc: 0.5558\n",
      "Epoch 6/40\n",
      "1000/1000 [==============================] - 867s 867ms/step - loss: 1.2223 - acc: 0.5437 - val_loss: 1.2062 - val_acc: 0.5952\n",
      "Epoch 7/40\n",
      "1000/1000 [==============================] - 875s 875ms/step - loss: 0.9653 - acc: 0.6395 - val_loss: 1.0397 - val_acc: 0.6899\n",
      "Epoch 8/40\n",
      "1000/1000 [==============================] - 813s 813ms/step - loss: 0.7933 - acc: 0.7127 - val_loss: 1.1309 - val_acc: 0.6753\n",
      "Epoch 9/40\n",
      "1000/1000 [==============================] - 791s 791ms/step - loss: 0.6850 - acc: 0.7517 - val_loss: 1.3046 - val_acc: 0.6966\n",
      "Epoch 10/40\n",
      "1000/1000 [==============================] - 788s 788ms/step - loss: 0.6104 - acc: 0.7755 - val_loss: 1.0885 - val_acc: 0.6921\n",
      "Epoch 11/40\n",
      "1000/1000 [==============================] - 784s 784ms/step - loss: 0.5343 - acc: 0.8027 - val_loss: 1.0478 - val_acc: 0.7212\n",
      "Epoch 12/40\n",
      "1000/1000 [==============================] - 790s 790ms/step - loss: 0.4683 - acc: 0.8273 - val_loss: 1.1123 - val_acc: 0.7154\n",
      "Epoch 13/40\n",
      "1000/1000 [==============================] - 786s 786ms/step - loss: 0.4230 - acc: 0.8478 - val_loss: 1.1836 - val_acc: 0.7126\n",
      "Epoch 14/40\n",
      "1000/1000 [==============================] - 784s 784ms/step - loss: 0.3782 - acc: 0.8652 - val_loss: 1.1839 - val_acc: 0.7286\n",
      "Epoch 15/40\n",
      "1000/1000 [==============================] - 776s 776ms/step - loss: 0.3347 - acc: 0.8809 - val_loss: 1.2102 - val_acc: 0.7194\n",
      "Epoch 16/40\n",
      "1000/1000 [==============================] - 769s 769ms/step - loss: 0.3007 - acc: 0.8940 - val_loss: 1.1563 - val_acc: 0.7231\n",
      "Epoch 17/40\n",
      "1000/1000 [==============================] - 765s 765ms/step - loss: 0.2663 - acc: 0.9075 - val_loss: 1.4773 - val_acc: 0.7314\n",
      "Epoch 18/40\n",
      "1000/1000 [==============================] - 764s 764ms/step - loss: 0.2366 - acc: 0.9181 - val_loss: 1.4727 - val_acc: 0.7093\n",
      "Epoch 19/40\n",
      "1000/1000 [==============================] - 764s 764ms/step - loss: 0.2308 - acc: 0.9207 - val_loss: 1.4596 - val_acc: 0.7269\n",
      "Epoch 20/40\n",
      "1000/1000 [==============================] - 763s 763ms/step - loss: 0.1919 - acc: 0.9337 - val_loss: 1.4383 - val_acc: 0.7371\n",
      "Epoch 21/40\n",
      "1000/1000 [==============================] - 761s 761ms/step - loss: 0.1801 - acc: 0.9379 - val_loss: 1.3370 - val_acc: 0.7056\n",
      "Epoch 22/40\n",
      "1000/1000 [==============================] - 763s 763ms/step - loss: 0.1606 - acc: 0.9446 - val_loss: 1.3702 - val_acc: 0.7359\n",
      "Epoch 23/40\n",
      "1000/1000 [==============================] - 762s 762ms/step - loss: 0.1496 - acc: 0.9483 - val_loss: 1.3128 - val_acc: 0.7326\n",
      "Epoch 24/40\n",
      "1000/1000 [==============================] - 763s 763ms/step - loss: 0.1448 - acc: 0.9511 - val_loss: 1.5958 - val_acc: 0.7211\n",
      "Epoch 25/40\n",
      "1000/1000 [==============================] - 763s 763ms/step - loss: 0.1376 - acc: 0.9537 - val_loss: 1.4854 - val_acc: 0.7384\n",
      "Epoch 26/40\n",
      "1000/1000 [==============================] - 764s 764ms/step - loss: 0.1375 - acc: 0.9550 - val_loss: 1.4570 - val_acc: 0.7126\n",
      "Epoch 27/40\n",
      "1000/1000 [==============================] - 759s 759ms/step - loss: 0.1206 - acc: 0.9595 - val_loss: 1.3917 - val_acc: 0.7334\n",
      "Epoch 28/40\n",
      "1000/1000 [==============================] - 762s 762ms/step - loss: 0.1095 - acc: 0.9636 - val_loss: 1.5780 - val_acc: 0.7349\n",
      "Epoch 29/40\n",
      "1000/1000 [==============================] - 762s 762ms/step - loss: 0.1075 - acc: 0.9643 - val_loss: 1.4571 - val_acc: 0.7040\n",
      "Epoch 30/40\n",
      "1000/1000 [==============================] - 770s 770ms/step - loss: 0.1031 - acc: 0.9665 - val_loss: 1.8227 - val_acc: 0.7015\n",
      "Epoch 31/40\n",
      "1000/1000 [==============================] - 769s 769ms/step - loss: 0.0971 - acc: 0.9682 - val_loss: 1.4238 - val_acc: 0.7306\n",
      "Epoch 32/40\n",
      "1000/1000 [==============================] - 764s 764ms/step - loss: 0.0882 - acc: 0.9709 - val_loss: 1.6341 - val_acc: 0.7258\n",
      "Epoch 33/40\n",
      "1000/1000 [==============================] - 767s 767ms/step - loss: 0.0909 - acc: 0.9703 - val_loss: 1.4196 - val_acc: 0.7345\n",
      "Epoch 34/40\n",
      "1000/1000 [==============================] - 765s 765ms/step - loss: 0.0836 - acc: 0.9728 - val_loss: 1.8862 - val_acc: 0.7333\n",
      "Epoch 35/40\n",
      "1000/1000 [==============================] - 762s 762ms/step - loss: 0.0866 - acc: 0.9719 - val_loss: 1.8056 - val_acc: 0.7227\n",
      "Epoch 36/40\n",
      "1000/1000 [==============================] - 761s 761ms/step - loss: 0.0866 - acc: 0.9715 - val_loss: 1.7221 - val_acc: 0.7363\n",
      "Epoch 37/40\n",
      "1000/1000 [==============================] - 765s 765ms/step - loss: 0.0760 - acc: 0.9755 - val_loss: 1.7030 - val_acc: 0.7429\n",
      "Epoch 38/40\n",
      "1000/1000 [==============================] - 763s 763ms/step - loss: 0.0709 - acc: 0.9767 - val_loss: 1.6743 - val_acc: 0.7306\n",
      "Epoch 39/40\n",
      "1000/1000 [==============================] - 767s 767ms/step - loss: 0.0722 - acc: 0.9768 - val_loss: 1.8911 - val_acc: 0.7415\n",
      "Epoch 40/40\n",
      "1000/1000 [==============================] - 772s 772ms/step - loss: 0.0763 - acc: 0.9751 - val_loss: 1.5587 - val_acc: 0.7394\n"
     ]
    }
   ],
   "source": [
    "history = model.fit_generator(\n",
    "    gen_train_data,\n",
    "    steps_per_epoch = 1000,\n",
    "    epochs = 40,\n",
    "    verbose = 1,\n",
    "    validation_data = gen_valid_data,\n",
    "    validation_steps = 1000\n",
    ")"
   ]
  },
  {
   "cell_type": "code",
   "execution_count": 0,
   "metadata": {
    "colab": {},
    "colab_type": "code",
    "id": "b5fyXxx5CUO8"
   },
   "outputs": [],
   "source": [
    "model.save(\"classificationAnimals.h5\")"
   ]
  },
  {
   "cell_type": "code",
   "execution_count": 37,
   "metadata": {
    "colab": {
     "base_uri": "https://localhost:8080/",
     "height": 562
    },
    "colab_type": "code",
    "id": "rp-5q9KTCeIK",
    "outputId": "b4a01ba8-5165-4343-a3f4-1d401b41e61e"
   },
   "outputs": [
    {
     "data": {
      "text/plain": [
       "<matplotlib.legend.Legend at 0x7f1ea025bf60>"
      ]
     },
     "execution_count": 37,
     "metadata": {
      "tags": []
     },
     "output_type": "execute_result"
    },
    {
     "data": {
      "image/png": "[encoded data removed]",
      "text/plain": [
       "<Figure size 432x288 with 1 Axes>"
      ]
     },
     "metadata": {
      "needs_background": "light",
      "tags": []
     },
     "output_type": "display_data"
    },
    {
     "data": {
      "image/png": "[encoded data removed]",
      "text/plain": [
       "<Figure size 432x288 with 1 Axes>"
      ]
     },
     "metadata": {
      "needs_background": "light",
      "tags": []
     },
     "output_type": "display_data"
    }
   ],
   "source": [
    "\n",
    "import matplotlib.pyplot as plt\n",
    "acc      = history.history[     'acc' ]\n",
    "val_acc  = history.history[ 'val_acc' ]\n",
    "loss     = history.history[    'loss' ]\n",
    "val_loss = history.history['val_loss' ]\n",
    "\n",
    "epochs   = range(len(acc))\n",
    "plt.plot  ( epochs,     acc ,label = \"Acc\")\n",
    "plt.plot  ( epochs, val_acc, label = \"Val_acc\")\n",
    "plt.title ('Training and validation accuracy')\n",
    "plt.legend()\n",
    "plt.figure()\n",
    "\n",
    "plt.plot  ( epochs,     loss, label = \"Loss\")\n",
    "plt.plot  ( epochs, val_loss, label = \"Val_loss\")\n",
    "plt.title ('Training and validation loss'   )\n",
    "plt.legend()"
   ]
  }
 ],
 "metadata": {
  "accelerator": "GPU",
  "colab": {
   "name": "Untitled0.ipynb",
   "provenance": []
  },
  "kernelspec": {
   "display_name": "Python 3",
   "language": "python",
   "name": "python3"
  },
  "language_info": {
   "codemirror_mode": {
    "name": "ipython",
    "version": 3
   },
   "file_extension": ".py",
   "mimetype": "text/x-python",
   "name": "python",
   "nbconvert_exporter": "python",
   "pygments_lexer": "ipython3",
   "version": "3.7.6"
  }
 },
 "nbformat": 4,
 "nbformat_minor": 1
}
